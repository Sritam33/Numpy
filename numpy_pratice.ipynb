{
  "nbformat": 4,
  "nbformat_minor": 0,
  "metadata": {
    "colab": {
      "provenance": [],
      "authorship_tag": "ABX9TyMR8L+iOc41nyNNmEYaAjYp",
      "include_colab_link": true
    },
    "kernelspec": {
      "name": "python3",
      "display_name": "Python 3"
    },
    "language_info": {
      "name": "python"
    }
  },
  "cells": [
    {
      "cell_type": "markdown",
      "metadata": {
        "id": "view-in-github",
        "colab_type": "text"
      },
      "source": [
        "<a href=\"https://colab.research.google.com/github/Sritam33/Numpy/blob/main/numpy_pratice.ipynb\" target=\"_parent\"><img src=\"https://colab.research.google.com/assets/colab-badge.svg\" alt=\"Open In Colab\"/></a>"
      ]
    },
    {
      "cell_type": "code",
      "execution_count": 2,
      "metadata": {
        "colab": {
          "base_uri": "https://localhost:8080/"
        },
        "id": "0gsj8n20tpH0",
        "outputId": "b886cf7d-3e0f-4831-ba01-181c65d82d6a"
      },
      "outputs": [
        {
          "output_type": "stream",
          "name": "stdout",
          "text": [
            "[1 2 3]\n"
          ]
        },
        {
          "output_type": "execute_result",
          "data": {
            "text/plain": [
              "array([[7],\n",
              "       [8],\n",
              "       [9]])"
            ]
          },
          "metadata": {},
          "execution_count": 2
        }
      ],
      "source": [
        "import numpy as np\n",
        "a = np.array([1,2,3])\n",
        "b = np.array([4,5,6])\n",
        "c = np.array([7,8,9])\n",
        "a.shape\n",
        "a.reshape(-1,1)\n",
        "print(a)\n",
        "b.reshape(-1,1)\n",
        "c.reshape(-1,1)"
      ]
    },
    {
      "cell_type": "code",
      "source": [
        "np.concatenate((a, b))"
      ],
      "metadata": {
        "id": "nXd_Ii8KvlBX",
        "colab": {
          "base_uri": "https://localhost:8080/"
        },
        "outputId": "263f674e-1359-4136-a410-84c9f98929b6"
      },
      "execution_count": 5,
      "outputs": [
        {
          "output_type": "execute_result",
          "data": {
            "text/plain": [
              "array([1, 2, 3, 4, 5, 6])"
            ]
          },
          "metadata": {},
          "execution_count": 5
        }
      ]
    },
    {
      "cell_type": "code",
      "source": [
        "import numpy as np\n",
        "\n",
        "# Create three arrays of shape (3,)\n",
        "array1 = np.array([1, 2, 3])\n",
        "array2 = np.array([4, 5, 6])\n",
        "array3 = np.array([7, 8, 9])\n",
        "\n",
        "# Concatenate along the column axis\n",
        "result = np.concatenate((array1, array2, array3), axis=0)\n",
        "print(result)\n",
        "\n",
        "# Reshape the result to make it a column vector\n",
        "result = result.reshape((3, -1))\n",
        "\n",
        "print(\"Array 1:\")\n",
        "print(array1)\n",
        "\n",
        "print(\"\\nArray 2:\")\n",
        "print(array2)\n",
        "\n",
        "print(\"\\nArray 3:\")\n",
        "print(array3)\n",
        "\n",
        "print(\"\\nConcatenated Result:\")\n",
        "print(result)\n"
      ],
      "metadata": {
        "id": "ExomCT_DHHry"
      },
      "execution_count": null,
      "outputs": []
    },
    {
      "cell_type": "code",
      "source": [
        "a=np.arange(3)\n",
        "b=np.arange(3)\n",
        "c=np.arange(3)\n",
        "d=np.concatenate((a,b,c),axis =1)"
      ],
      "metadata": {
        "id": "0ttKj45UysHq"
      },
      "execution_count": null,
      "outputs": []
    },
    {
      "cell_type": "code",
      "source": [
        "d"
      ],
      "metadata": {
        "id": "Jpc2Q78azeMN"
      },
      "execution_count": null,
      "outputs": []
    },
    {
      "cell_type": "code",
      "source": [
        "arr = np.arange(50)\n",
        "arr"
      ],
      "metadata": {
        "id": "HIRokNoA0G5p"
      },
      "execution_count": null,
      "outputs": []
    },
    {
      "cell_type": "code",
      "source": [
        "for i in arr:\n",
        "  if (i % 2 != 0):\n",
        "    print(i)"
      ],
      "metadata": {
        "id": "GKKh9ssp08Se"
      },
      "execution_count": null,
      "outputs": []
    },
    {
      "cell_type": "code",
      "source": [
        "a=np.random.random(100,)\n",
        "a"
      ],
      "metadata": {
        "id": "9l2FU3ME1LL1"
      },
      "execution_count": null,
      "outputs": []
    },
    {
      "cell_type": "code",
      "source": [
        "np.mean(a)"
      ],
      "metadata": {
        "id": "AK9vLwxK1ols"
      },
      "execution_count": null,
      "outputs": []
    },
    {
      "cell_type": "code",
      "source": [
        "np.std(a)"
      ],
      "metadata": {
        "id": "ZYASAcnk3TZu"
      },
      "execution_count": null,
      "outputs": []
    },
    {
      "cell_type": "code",
      "source": [
        "anormalized= (a - np.mean(a))/np.std(a)"
      ],
      "metadata": {
        "id": "OxJBX_ho3iX5"
      },
      "execution_count": null,
      "outputs": []
    },
    {
      "cell_type": "code",
      "source": [
        "b=np.random.random(20,)"
      ],
      "metadata": {
        "id": "OgDQRoFv4a_j"
      },
      "execution_count": null,
      "outputs": []
    },
    {
      "cell_type": "code",
      "source": [
        "np.mean(b)"
      ],
      "metadata": {
        "id": "fA9zRjQu44-M"
      },
      "execution_count": null,
      "outputs": []
    },
    {
      "cell_type": "code",
      "source": [
        "np.median(b)"
      ],
      "metadata": {
        "id": "-7bI1qyZ5cgk"
      },
      "execution_count": null,
      "outputs": []
    },
    {
      "cell_type": "code",
      "source": [
        "np.mode(b)"
      ],
      "metadata": {
        "id": "L8s6cSeP5qH9"
      },
      "execution_count": null,
      "outputs": []
    },
    {
      "cell_type": "code",
      "source": [
        "a= np.arange(40)\n",
        "b = a.reshape((8,5))\n",
        "b"
      ],
      "metadata": {
        "id": "Dx0qUwK55wOA"
      },
      "execution_count": null,
      "outputs": []
    },
    {
      "cell_type": "code",
      "source": [
        "A=np.random.randint((24),size=(4,6))"
      ],
      "metadata": {
        "id": "iQcirfji6zRN"
      },
      "execution_count": null,
      "outputs": []
    },
    {
      "cell_type": "code",
      "source": [
        "A"
      ],
      "metadata": {
        "id": "S46UQh5WBbYm"
      },
      "execution_count": null,
      "outputs": []
    },
    {
      "cell_type": "code",
      "source": [
        "A[2,3]"
      ],
      "metadata": {
        "id": "bYYBUTg0Bdn1"
      },
      "execution_count": null,
      "outputs": []
    },
    {
      "cell_type": "code",
      "source": [
        "a1=np.random.randint(1,500,size=100)\n",
        "a1"
      ],
      "metadata": {
        "id": "JhO1dkohBmPh"
      },
      "execution_count": null,
      "outputs": []
    },
    {
      "cell_type": "code",
      "source": [
        "np.argmax(a1)"
      ],
      "metadata": {
        "id": "Pe19feVPB35X"
      },
      "execution_count": null,
      "outputs": []
    },
    {
      "cell_type": "code",
      "source": [
        "np.max(a1)"
      ],
      "metadata": {
        "id": "Gb4LtD7HC3Gn"
      },
      "execution_count": null,
      "outputs": []
    },
    {
      "cell_type": "code",
      "source": [
        "a=np.arange(6).reshape(2,3)\n",
        "b=np.arange(3).reshape(1,3)\n",
        "np.vstack((a,b))"
      ],
      "metadata": {
        "id": "CPFsBp_RJDH9"
      },
      "execution_count": null,
      "outputs": []
    },
    {
      "cell_type": "code",
      "source": [
        "np.__version__"
      ],
      "metadata": {
        "id": "Z7rK_xGGK5w_"
      },
      "execution_count": null,
      "outputs": []
    },
    {
      "cell_type": "code",
      "source": [
        "arr=np.random.randint(5,60,size=(20,30))\n",
        "arr\n",
        "np.vsplit(arr,4)"
      ],
      "metadata": {
        "id": "dR9UsXw3LZ8Q"
      },
      "execution_count": null,
      "outputs": []
    },
    {
      "cell_type": "code",
      "source": [
        "a=np.arange(3)\n",
        "a.shape"
      ],
      "metadata": {
        "id": "Be0B0NpFL6kF"
      },
      "execution_count": null,
      "outputs": []
    },
    {
      "cell_type": "code",
      "source": [
        "a.ndim"
      ],
      "metadata": {
        "id": "3n1JoiDzOZwe"
      },
      "execution_count": null,
      "outputs": []
    },
    {
      "cell_type": "code",
      "source": [
        "b=a.reshape(3,1)\n",
        "b.shape"
      ],
      "metadata": {
        "id": "X6EPlPJGOjtZ"
      },
      "execution_count": null,
      "outputs": []
    },
    {
      "cell_type": "code",
      "source": [
        "a= np.arange(6).reshape(2,3)\n",
        "b=a[:,np.newaxis,:]\n",
        "b.shape"
      ],
      "metadata": {
        "id": "nkh9PmhHOp9Q"
      },
      "execution_count": null,
      "outputs": []
    },
    {
      "cell_type": "code",
      "source": [
        "list=[i for i in range(1,21)]"
      ],
      "metadata": {
        "id": "TQDcjorgPPpZ"
      },
      "execution_count": null,
      "outputs": []
    },
    {
      "cell_type": "code",
      "source": [
        "list"
      ],
      "metadata": {
        "id": "qA8rmWXcQ6T1"
      },
      "execution_count": null,
      "outputs": []
    },
    {
      "cell_type": "code",
      "source": [
        "a1=np.array([i for i in list if (i % 2 ==0)])\n",
        "\n",
        "\n"
      ],
      "metadata": {
        "id": "DOe1UjzcQ7hr"
      },
      "execution_count": null,
      "outputs": []
    },
    {
      "cell_type": "code",
      "source": [
        "a1"
      ],
      "metadata": {
        "id": "ryoyW90DRZ_y"
      },
      "execution_count": null,
      "outputs": []
    },
    {
      "cell_type": "code",
      "source": [
        "a2=np.array([i for i in list if (i % 2 !=0)])\n"
      ],
      "metadata": {
        "id": "0K949ylJWoAs"
      },
      "execution_count": null,
      "outputs": []
    },
    {
      "cell_type": "code",
      "source": [
        "a2"
      ],
      "metadata": {
        "id": "-On-vjTpW3aM"
      },
      "execution_count": null,
      "outputs": []
    },
    {
      "cell_type": "code",
      "source": [
        "a1=np.array([list])"
      ],
      "metadata": {
        "id": "kdJefClNSRPO"
      },
      "execution_count": null,
      "outputs": []
    },
    {
      "cell_type": "code",
      "source": [
        "b=a1[a1%2==0]\n",
        "b"
      ],
      "metadata": {
        "id": "1ux5uBp6SkF8"
      },
      "execution_count": null,
      "outputs": []
    },
    {
      "cell_type": "code",
      "source": [
        "b =a1[a1%2 != 0]\n",
        "b"
      ],
      "metadata": {
        "id": "M6KQrW1PSjdD"
      },
      "execution_count": null,
      "outputs": []
    },
    {
      "cell_type": "code",
      "source": [
        "b=np.random.random(80).reshape(8,10)"
      ],
      "metadata": {
        "id": "S9lsDneLSjDQ"
      },
      "execution_count": null,
      "outputs": []
    },
    {
      "cell_type": "code",
      "source": [
        "np.sum(b>0.5)\n"
      ],
      "metadata": {
        "id": "L6wmq9UNUYFW"
      },
      "execution_count": null,
      "outputs": []
    },
    {
      "cell_type": "code",
      "source": [
        "c=b [b>0.5]\n",
        "c"
      ],
      "metadata": {
        "id": "iHafTRcMUml2"
      },
      "execution_count": null,
      "outputs": []
    },
    {
      "cell_type": "code",
      "source": [],
      "metadata": {
        "id": "geNslHXGWXpB"
      },
      "execution_count": null,
      "outputs": []
    }
  ]
}